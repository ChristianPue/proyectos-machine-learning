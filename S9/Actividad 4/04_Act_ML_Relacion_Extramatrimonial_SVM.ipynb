{
  "cells": [
    {
      "cell_type": "markdown",
      "metadata": {
        "id": "zyr-kUdcQsjc"
      },
      "source": [
        "### **CC57 - MACHINE LEARNING - CLASIFICADOR SUPPORT VECTOR MACHINE (SVM)**"
      ]
    },
    {
      "cell_type": "markdown",
      "metadata": {
        "id": "wFszGyFMOv53"
      },
      "source": [
        "### **Actividad #4: Detección de infedilidad en un matrimonio**\n"
      ]
    },
    {
      "cell_type": "markdown",
      "metadata": {
        "id": "nhfx_9BlhowJ"
      },
      "source": [
        "Los datos provienen de statsmodels disponible en: https://www.statsmodels.org/stable/index.html\n",
        "\n",
        "El conjunto de datos contiene informacion sobre las caracteriticas de la esposa en la relacion marital (edad, religion, numero de hijos, educacion, ocupacion,  cantidad de infidelidades, etc). Este conjunto de datos se puede tratar como un problema de clasificación creando una nueva variable binaria infiel (¿la esposa tuvo al menos una infidelidad?) e intentando predecir la clasificación para cada esposa.\n",
        "\n",
        "\n",
        "El conjunnto de datos **infiel.csv** contempla 6366 observaciones en 9 variables.  Su estructura es la siguiente:"
      ]
    },
    {
      "cell_type": "markdown",
      "metadata": {
        "id": "XGOe94eklme5"
      },
      "source": [
        "**- 1. rate_marriage:**woman's rating of her marriage (1 = very poor, 5 = very good)\n",
        "\n",
        "**- 2. age:** woman's age\n",
        "\n",
        "**- 3. yrs_married:**number of years married\n",
        "\n",
        "**- 4. children:** number of children\n",
        "\n",
        "**- 5. religious:** woman's rating of how religious she is (1 = not religious, 4 = strongly religious)\n",
        "\n",
        "**- 6. educ:** level of education (9 = grade school, 12 = high school, 14 = some college, 16 = college graduate, 17 = some graduate school, 20 = advanced degree)\n",
        "\n",
        "**- 7. occupation:** woman's occupation (1 = student, 2 = farming/semi-skilled/unskilled, 3 = \"white collar\", 4 = teacher/nurse/writer/technician/skilled, 5 = managerial/business, 6 = professional with advanced degree)\n",
        "\n",
        "**- 8. occupation_husb:** husband's occupation (same coding as above)\n",
        "\n",
        "**- 9. affairs:** time spent in extra-marital affairs"
      ]
    },
    {
      "cell_type": "markdown",
      "metadata": {
        "id": "HGm42-VIwM0r"
      },
      "source": [
        "Se solicita lo siguiente:\n",
        "\n",
        "- Cargar los datos\n",
        "- Realizar un analisis visual y preprocesamiento de los datos\n",
        "- Crear (3) modelos utilizando el **clasificador SVM** para predecir si una esposa es o no infiel dentro de la relacion marital.  \n",
        "\n",
        "  -  **Modelo #1:** Clasificador SVM basico (sin parametros)\n",
        "  -  **Modelo #2:** Clasificador SVM con hiperparametros\n",
        "  -  **Modelo #3:** Clasificador SVM con hiperparametros | Data sintetica\n",
        "\n",
        "- Visualizar los resultados por modelo\n",
        "  -  Reporte de Clasificacion\n",
        "  -  Matriz de Confusion\n",
        "- Evaluar el modelo: explique sus conclusiones\n",
        "\n"
      ]
    },
    {
      "cell_type": "markdown",
      "metadata": {
        "id": "5mv01mFuO1-S"
      },
      "source": [
        "## <font color=blue>0. Cargar Librerias</font>\n"
      ]
    },
    {
      "cell_type": "code",
      "execution_count": 2,
      "metadata": {
        "id": "EyB5GTlmOv56"
      },
      "outputs": [],
      "source": [
        "import pandas as pd"
      ]
    },
    {
      "cell_type": "markdown",
      "metadata": {
        "id": "-VyT60whOv57"
      },
      "source": [
        "## <font color=blue>1. Analisis Exploratorio de los Datos</font>\n"
      ]
    },
    {
      "cell_type": "code",
      "execution_count": 3,
      "metadata": {
        "id": "XgNeJ1xROv57"
      },
      "outputs": [],
      "source": [
        "#Cargar archivo de datos\n",
        "#data = pd.read_csv(\"infiel.csv\")\n",
        "data = pd.read_csv(\"infiel.csv\")"
      ]
    },
    {
      "cell_type": "code",
      "execution_count": 4,
      "metadata": {
        "id": "4uUW3o12Ov58"
      },
      "outputs": [
        {
          "data": {
            "text/html": [
              "<div>\n",
              "<style scoped>\n",
              "    .dataframe tbody tr th:only-of-type {\n",
              "        vertical-align: middle;\n",
              "    }\n",
              "\n",
              "    .dataframe tbody tr th {\n",
              "        vertical-align: top;\n",
              "    }\n",
              "\n",
              "    .dataframe thead th {\n",
              "        text-align: right;\n",
              "    }\n",
              "</style>\n",
              "<table border=\"1\" class=\"dataframe\">\n",
              "  <thead>\n",
              "    <tr style=\"text-align: right;\">\n",
              "      <th></th>\n",
              "      <th>rate_marriage</th>\n",
              "      <th>age</th>\n",
              "      <th>yrs_married</th>\n",
              "      <th>children</th>\n",
              "      <th>religious</th>\n",
              "      <th>educ</th>\n",
              "      <th>occupation</th>\n",
              "      <th>occupation_husb</th>\n",
              "      <th>affairs</th>\n",
              "    </tr>\n",
              "  </thead>\n",
              "  <tbody>\n",
              "    <tr>\n",
              "      <th>0</th>\n",
              "      <td>3.0</td>\n",
              "      <td>32.0</td>\n",
              "      <td>9.0</td>\n",
              "      <td>3.0</td>\n",
              "      <td>3.0</td>\n",
              "      <td>17.0</td>\n",
              "      <td>2.0</td>\n",
              "      <td>5.0</td>\n",
              "      <td>0.111111</td>\n",
              "    </tr>\n",
              "    <tr>\n",
              "      <th>1</th>\n",
              "      <td>3.0</td>\n",
              "      <td>27.0</td>\n",
              "      <td>13.0</td>\n",
              "      <td>3.0</td>\n",
              "      <td>1.0</td>\n",
              "      <td>14.0</td>\n",
              "      <td>3.0</td>\n",
              "      <td>4.0</td>\n",
              "      <td>3.230769</td>\n",
              "    </tr>\n",
              "    <tr>\n",
              "      <th>2</th>\n",
              "      <td>4.0</td>\n",
              "      <td>22.0</td>\n",
              "      <td>2.5</td>\n",
              "      <td>0.0</td>\n",
              "      <td>1.0</td>\n",
              "      <td>16.0</td>\n",
              "      <td>3.0</td>\n",
              "      <td>5.0</td>\n",
              "      <td>1.400000</td>\n",
              "    </tr>\n",
              "    <tr>\n",
              "      <th>3</th>\n",
              "      <td>4.0</td>\n",
              "      <td>37.0</td>\n",
              "      <td>16.5</td>\n",
              "      <td>4.0</td>\n",
              "      <td>3.0</td>\n",
              "      <td>16.0</td>\n",
              "      <td>5.0</td>\n",
              "      <td>5.0</td>\n",
              "      <td>0.727273</td>\n",
              "    </tr>\n",
              "    <tr>\n",
              "      <th>4</th>\n",
              "      <td>5.0</td>\n",
              "      <td>27.0</td>\n",
              "      <td>9.0</td>\n",
              "      <td>1.0</td>\n",
              "      <td>1.0</td>\n",
              "      <td>14.0</td>\n",
              "      <td>3.0</td>\n",
              "      <td>4.0</td>\n",
              "      <td>4.666666</td>\n",
              "    </tr>\n",
              "    <tr>\n",
              "      <th>5</th>\n",
              "      <td>4.0</td>\n",
              "      <td>27.0</td>\n",
              "      <td>9.0</td>\n",
              "      <td>0.0</td>\n",
              "      <td>2.0</td>\n",
              "      <td>14.0</td>\n",
              "      <td>3.0</td>\n",
              "      <td>4.0</td>\n",
              "      <td>4.666666</td>\n",
              "    </tr>\n",
              "    <tr>\n",
              "      <th>6</th>\n",
              "      <td>5.0</td>\n",
              "      <td>37.0</td>\n",
              "      <td>23.0</td>\n",
              "      <td>5.5</td>\n",
              "      <td>2.0</td>\n",
              "      <td>12.0</td>\n",
              "      <td>5.0</td>\n",
              "      <td>4.0</td>\n",
              "      <td>0.852174</td>\n",
              "    </tr>\n",
              "    <tr>\n",
              "      <th>7</th>\n",
              "      <td>5.0</td>\n",
              "      <td>37.0</td>\n",
              "      <td>23.0</td>\n",
              "      <td>5.5</td>\n",
              "      <td>2.0</td>\n",
              "      <td>12.0</td>\n",
              "      <td>2.0</td>\n",
              "      <td>3.0</td>\n",
              "      <td>1.826086</td>\n",
              "    </tr>\n",
              "    <tr>\n",
              "      <th>8</th>\n",
              "      <td>3.0</td>\n",
              "      <td>22.0</td>\n",
              "      <td>2.5</td>\n",
              "      <td>0.0</td>\n",
              "      <td>2.0</td>\n",
              "      <td>12.0</td>\n",
              "      <td>3.0</td>\n",
              "      <td>3.0</td>\n",
              "      <td>4.799999</td>\n",
              "    </tr>\n",
              "    <tr>\n",
              "      <th>9</th>\n",
              "      <td>3.0</td>\n",
              "      <td>27.0</td>\n",
              "      <td>6.0</td>\n",
              "      <td>0.0</td>\n",
              "      <td>1.0</td>\n",
              "      <td>16.0</td>\n",
              "      <td>3.0</td>\n",
              "      <td>5.0</td>\n",
              "      <td>1.333333</td>\n",
              "    </tr>\n",
              "  </tbody>\n",
              "</table>\n",
              "</div>"
            ],
            "text/plain": [
              "   rate_marriage   age  yrs_married  children  religious  educ  occupation  \\\n",
              "0            3.0  32.0          9.0       3.0        3.0  17.0         2.0   \n",
              "1            3.0  27.0         13.0       3.0        1.0  14.0         3.0   \n",
              "2            4.0  22.0          2.5       0.0        1.0  16.0         3.0   \n",
              "3            4.0  37.0         16.5       4.0        3.0  16.0         5.0   \n",
              "4            5.0  27.0          9.0       1.0        1.0  14.0         3.0   \n",
              "5            4.0  27.0          9.0       0.0        2.0  14.0         3.0   \n",
              "6            5.0  37.0         23.0       5.5        2.0  12.0         5.0   \n",
              "7            5.0  37.0         23.0       5.5        2.0  12.0         2.0   \n",
              "8            3.0  22.0          2.5       0.0        2.0  12.0         3.0   \n",
              "9            3.0  27.0          6.0       0.0        1.0  16.0         3.0   \n",
              "\n",
              "   occupation_husb   affairs  \n",
              "0              5.0  0.111111  \n",
              "1              4.0  3.230769  \n",
              "2              5.0  1.400000  \n",
              "3              5.0  0.727273  \n",
              "4              4.0  4.666666  \n",
              "5              4.0  4.666666  \n",
              "6              4.0  0.852174  \n",
              "7              3.0  1.826086  \n",
              "8              3.0  4.799999  \n",
              "9              5.0  1.333333  "
            ]
          },
          "execution_count": 4,
          "metadata": {},
          "output_type": "execute_result"
        }
      ],
      "source": [
        "#Visualizar primeros registros del conjunto de datos\n",
        "data.head(10)"
      ]
    },
    {
      "cell_type": "markdown",
      "metadata": {
        "id": "KFhQe_6pOv58"
      },
      "source": [
        "### **Análisis de las medidas de tendencia/estadistica**"
      ]
    },
    {
      "cell_type": "code",
      "execution_count": null,
      "metadata": {
        "id": "eRrLCNUoOv59"
      },
      "outputs": [],
      "source": []
    },
    {
      "cell_type": "markdown",
      "metadata": {
        "id": "TejPQ0dNOv59"
      },
      "source": [
        "### **Visualizacion de los atributos predictoras y de infidelidad (target)**"
      ]
    },
    {
      "cell_type": "code",
      "execution_count": null,
      "metadata": {
        "id": "J8HRv5ICOv5-"
      },
      "outputs": [],
      "source": []
    },
    {
      "cell_type": "markdown",
      "metadata": {
        "id": "4tFPPVxsOv5-"
      },
      "source": [
        "## <font color=blue>2. Preprocesamiento de los datos</font>"
      ]
    },
    {
      "cell_type": "markdown",
      "metadata": {
        "id": "sMxwHl_H6i6h"
      },
      "source": [
        "### **Verificar datos faltantes y/o duplicados**"
      ]
    },
    {
      "cell_type": "code",
      "execution_count": null,
      "metadata": {
        "id": "hro1LG4g7asG"
      },
      "outputs": [],
      "source": []
    },
    {
      "cell_type": "markdown",
      "metadata": {
        "id": "Wi2eBPtGOv5-"
      },
      "source": [
        "### **Separar variables predictoras y el atributo destino de los datos**"
      ]
    },
    {
      "cell_type": "code",
      "execution_count": null,
      "metadata": {
        "id": "11kzWLxsOv5-"
      },
      "outputs": [],
      "source": []
    },
    {
      "cell_type": "markdown",
      "metadata": {
        "id": "sS9726wBOv6B"
      },
      "source": [
        "## <font color=blue>3. Entrenando los modelos SVM </font>"
      ]
    },
    {
      "cell_type": "markdown",
      "metadata": {
        "id": "CsK1LK3vOv6B"
      },
      "source": [
        "### **Dividir el conjunto de datos en una proporción de 80: 20**"
      ]
    },
    {
      "cell_type": "code",
      "execution_count": null,
      "metadata": {
        "id": "rqjzg3pOOv6B"
      },
      "outputs": [],
      "source": []
    },
    {
      "cell_type": "markdown",
      "metadata": {
        "id": "383gYibSOv6B"
      },
      "source": [
        "### **Modelo #1: Clasificador SVM basico (sin parametros)**\n",
        "\n"
      ]
    },
    {
      "cell_type": "code",
      "execution_count": null,
      "metadata": {
        "id": "RTdKo325Ov6B"
      },
      "outputs": [],
      "source": [
        "# Modelo #1: Clasificador SVM basico (sin parametros)\n",
        "\n",
        "\n"
      ]
    },
    {
      "cell_type": "markdown",
      "metadata": {
        "id": "7CTBGL-9rLrE"
      },
      "source": [
        "### **Modelo #2: Clasificador SVM con hiperparametros**"
      ]
    },
    {
      "cell_type": "code",
      "execution_count": null,
      "metadata": {
        "id": "mb6JvXuqrNDm"
      },
      "outputs": [],
      "source": []
    },
    {
      "cell_type": "markdown",
      "metadata": {
        "id": "tWT_SCKZrNhN"
      },
      "source": [
        "### **Modelo #3: Clasificador SVM con hiperparametros | Data sintetica**"
      ]
    },
    {
      "cell_type": "code",
      "execution_count": null,
      "metadata": {
        "id": "WVUKIKghraST"
      },
      "outputs": [],
      "source": []
    },
    {
      "cell_type": "markdown",
      "metadata": {
        "id": "sFgYtCurOv6C"
      },
      "source": [
        "## <font color=blue>4. Visualización de resultados de los modelos </font>\n",
        "- Reporte de Clasificacion\n",
        "- Matriz de Confusion\n",
        "<br>"
      ]
    },
    {
      "cell_type": "code",
      "execution_count": null,
      "metadata": {
        "id": "UmHd1AoHOv6C"
      },
      "outputs": [],
      "source": []
    },
    {
      "cell_type": "markdown",
      "metadata": {
        "id": "YTvWEXjIrzHa"
      },
      "source": [
        "## <font color=blue>5. Evaluar el modelo</font>\n",
        "- Explique sus conclusiones\n",
        "<br>"
      ]
    }
  ],
  "metadata": {
    "colab": {
      "provenance": []
    },
    "kernelspec": {
      "display_name": "Python 3",
      "language": "python",
      "name": "python3"
    },
    "language_info": {
      "codemirror_mode": {
        "name": "ipython",
        "version": 3
      },
      "file_extension": ".py",
      "mimetype": "text/x-python",
      "name": "python",
      "nbconvert_exporter": "python",
      "pygments_lexer": "ipython3",
      "version": "3.12.5"
    }
  },
  "nbformat": 4,
  "nbformat_minor": 0
}
