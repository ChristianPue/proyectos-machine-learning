{
  "cells": [
    {
      "cell_type": "markdown",
      "source": [
        "### **CC57 - MACHINE LEARNING - CLASIFICADOR SUPPORT VECTOR MACHINE (SVM)**"
      ],
      "metadata": {
        "id": "zyr-kUdcQsjc"
      }
    },
    {
      "cell_type": "markdown",
      "metadata": {
        "id": "wFszGyFMOv53"
      },
      "source": [
        "### **Actividad #4: Detección de infedilidad en un matrimonio**\n"
      ]
    },
    {
      "cell_type": "markdown",
      "source": [
        "Los datos provienen de statsmodels disponible en: https://www.statsmodels.org/stable/index.html\n",
        "\n",
        "El conjunto de datos contiene informacion sobre las caracteriticas de la esposa en la relacion marital (edad, religion, numero de hijos, educacion, ocupacion,  cantidad de infidelidades, etc). Este conjunto de datos se puede tratar como un problema de clasificación creando una nueva variable binaria infiel (¿la esposa tuvo al menos una infidelidad?) e intentando predecir la clasificación para cada esposa.\n",
        "\n",
        "\n",
        "El conjunnto de datos **infiel.csv** contempla 6366 observaciones en 9 variables.  Su estructura es la siguiente:"
      ],
      "metadata": {
        "id": "nhfx_9BlhowJ"
      }
    },
    {
      "cell_type": "markdown",
      "source": [
        "**- 1. rate_marriage:**woman's rating of her marriage (1 = very poor, 5 = very good)\n",
        "\n",
        "**- 2. age:** woman's age\n",
        "\n",
        "**- 3. yrs_married:**number of years married\n",
        "\n",
        "**- 4. children:** number of children\n",
        "\n",
        "**- 5. religious:** woman's rating of how religious she is (1 = not religious, 4 = strongly religious)\n",
        "\n",
        "**- 6. educ:** level of education (9 = grade school, 12 = high school, 14 = some college, 16 = college graduate, 17 = some graduate school, 20 = advanced degree)\n",
        "\n",
        "**- 7. occupation:** woman's occupation (1 = student, 2 = farming/semi-skilled/unskilled, 3 = \"white collar\", 4 = teacher/nurse/writer/technician/skilled, 5 = managerial/business, 6 = professional with advanced degree)\n",
        "\n",
        "**- 8. occupation_husb:** husband's occupation (same coding as above)\n",
        "\n",
        "**- 9. affairs:** time spent in extra-marital affairs"
      ],
      "metadata": {
        "id": "XGOe94eklme5"
      }
    },
    {
      "cell_type": "markdown",
      "source": [
        "Se solicita lo siguiente:\n",
        "\n",
        "- Cargar los datos\n",
        "- Realizar un analisis visual y preprocesamiento de los datos\n",
        "- Crear (3) modelos utilizando el **clasificador SVM** para predecir si una esposa es o no infiel dentro de la relacion marital.  \n",
        "\n",
        "  -  **Modelo #1:** Clasificador SVM basico (sin parametros)\n",
        "  -  **Modelo #2:** Clasificador SVM con hiperparametros\n",
        "  -  **Modelo #3:** Clasificador SVM con hiperparametros | Data sintetica\n",
        "\n",
        "- Visualizar los resultados por modelo\n",
        "  -  Reporte de Clasificacion\n",
        "  -  Matriz de Confusion\n",
        "- Evaluar el modelo: explique sus conclusiones\n",
        "\n"
      ],
      "metadata": {
        "id": "HGm42-VIwM0r"
      }
    },
    {
      "cell_type": "markdown",
      "source": [
        "## <font color=blue>0. Cargar Librerias</font>\n"
      ],
      "metadata": {
        "id": "5mv01mFuO1-S"
      }
    },
    {
      "cell_type": "code",
      "execution_count": null,
      "metadata": {
        "id": "EyB5GTlmOv56"
      },
      "outputs": [],
      "source": []
    },
    {
      "cell_type": "markdown",
      "metadata": {
        "id": "-VyT60whOv57"
      },
      "source": [
        "## <font color=blue>1. Analisis Exploratorio de los Datos</font>\n"
      ]
    },
    {
      "cell_type": "code",
      "execution_count": null,
      "metadata": {
        "id": "XgNeJ1xROv57"
      },
      "outputs": [],
      "source": [
        "#Cargar archivo de datos\n",
        "#data = pd.read_csv(\"infiel.csv\")"
      ]
    },
    {
      "cell_type": "code",
      "execution_count": null,
      "metadata": {
        "id": "4uUW3o12Ov58"
      },
      "outputs": [],
      "source": [
        "#Visualizar primeros registros del conjunto de datos\n"
      ]
    },
    {
      "cell_type": "markdown",
      "metadata": {
        "id": "KFhQe_6pOv58"
      },
      "source": [
        "### **Análisis de las medidas de tendencia/estadistica**"
      ]
    },
    {
      "cell_type": "code",
      "execution_count": null,
      "metadata": {
        "id": "eRrLCNUoOv59"
      },
      "outputs": [],
      "source": []
    },
    {
      "cell_type": "markdown",
      "metadata": {
        "id": "TejPQ0dNOv59"
      },
      "source": [
        "### **Visualizacion de los atributos predictoras y de infidelidad (target)**"
      ]
    },
    {
      "cell_type": "code",
      "execution_count": null,
      "metadata": {
        "id": "J8HRv5ICOv5-"
      },
      "outputs": [],
      "source": []
    },
    {
      "cell_type": "markdown",
      "metadata": {
        "id": "4tFPPVxsOv5-"
      },
      "source": [
        "## <font color=blue>2. Preprocesamiento de los datos</font>"
      ]
    },
    {
      "cell_type": "markdown",
      "source": [
        "### **Verificar datos faltantes y/o duplicados**"
      ],
      "metadata": {
        "id": "sMxwHl_H6i6h"
      }
    },
    {
      "cell_type": "code",
      "source": [],
      "metadata": {
        "id": "hro1LG4g7asG"
      },
      "execution_count": null,
      "outputs": []
    },
    {
      "cell_type": "markdown",
      "metadata": {
        "id": "Wi2eBPtGOv5-"
      },
      "source": [
        "### **Separar variables predictoras y el atributo destino de los datos**"
      ]
    },
    {
      "cell_type": "code",
      "execution_count": null,
      "metadata": {
        "id": "11kzWLxsOv5-"
      },
      "outputs": [],
      "source": []
    },
    {
      "cell_type": "markdown",
      "metadata": {
        "id": "sS9726wBOv6B"
      },
      "source": [
        "## <font color=blue>3. Entrenando los modelos SVM </font>"
      ]
    },
    {
      "cell_type": "markdown",
      "metadata": {
        "id": "CsK1LK3vOv6B"
      },
      "source": [
        "### **Dividir el conjunto de datos en una proporción de 80: 20**"
      ]
    },
    {
      "cell_type": "code",
      "execution_count": null,
      "metadata": {
        "id": "rqjzg3pOOv6B"
      },
      "outputs": [],
      "source": []
    },
    {
      "cell_type": "markdown",
      "metadata": {
        "id": "383gYibSOv6B"
      },
      "source": [
        "### **Modelo #1: Clasificador SVM basico (sin parametros)**\n",
        "\n"
      ]
    },
    {
      "cell_type": "code",
      "execution_count": null,
      "metadata": {
        "id": "RTdKo325Ov6B"
      },
      "outputs": [],
      "source": [
        "# Modelo #1: Clasificador SVM basico (sin parametros)\n",
        "\n",
        "\n"
      ]
    },
    {
      "cell_type": "markdown",
      "source": [
        "### **Modelo #2: Clasificador SVM con hiperparametros**"
      ],
      "metadata": {
        "id": "7CTBGL-9rLrE"
      }
    },
    {
      "cell_type": "code",
      "source": [],
      "metadata": {
        "id": "mb6JvXuqrNDm"
      },
      "execution_count": null,
      "outputs": []
    },
    {
      "cell_type": "markdown",
      "source": [
        "### **Modelo #3: Clasificador SVM con hiperparametros | Data sintetica**"
      ],
      "metadata": {
        "id": "tWT_SCKZrNhN"
      }
    },
    {
      "cell_type": "code",
      "source": [],
      "metadata": {
        "id": "WVUKIKghraST"
      },
      "execution_count": null,
      "outputs": []
    },
    {
      "cell_type": "markdown",
      "metadata": {
        "id": "sFgYtCurOv6C"
      },
      "source": [
        "## <font color=blue>4. Visualización de resultados de los modelos </font>\n",
        "- Reporte de Clasificacion\n",
        "- Matriz de Confusion\n",
        "<br>"
      ]
    },
    {
      "cell_type": "code",
      "execution_count": null,
      "metadata": {
        "id": "UmHd1AoHOv6C"
      },
      "outputs": [],
      "source": []
    },
    {
      "cell_type": "markdown",
      "source": [
        "## <font color=blue>5. Evaluar el modelo</font>\n",
        "- Explique sus conclusiones\n",
        "<br>"
      ],
      "metadata": {
        "id": "YTvWEXjIrzHa"
      }
    }
  ],
  "metadata": {
    "kernelspec": {
      "display_name": "Python 3",
      "language": "python",
      "name": "python3"
    },
    "language_info": {
      "codemirror_mode": {
        "name": "ipython",
        "version": 3
      },
      "file_extension": ".py",
      "mimetype": "text/x-python",
      "name": "python",
      "nbconvert_exporter": "python",
      "pygments_lexer": "ipython3",
      "version": "3.7.3"
    },
    "colab": {
      "provenance": []
    }
  },
  "nbformat": 4,
  "nbformat_minor": 0
}