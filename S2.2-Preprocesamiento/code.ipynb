{
 "cells": [
  {
   "cell_type": "code",
   "execution_count": 2,
   "id": "21cbf55d",
   "metadata": {},
   "outputs": [],
   "source": [
    "import pandas as pd\n",
    "import numpy as np\n",
    "import matplotlib.pyplot\n",
    "import seaborn as sns"
   ]
  },
  {
   "cell_type": "code",
   "execution_count": 3,
   "id": "61a064f2",
   "metadata": {},
   "outputs": [
    {
     "name": "stdout",
     "output_type": "stream",
     "text": [
      "Cantidad de: Observaciones y Variables: (400, 5)\n",
      "<class 'pandas.core.frame.DataFrame'>\n",
      "RangeIndex: 400 entries, 0 to 399\n",
      "Data columns (total 5 columns):\n",
      " #   Column           Non-Null Count  Dtype \n",
      "---  ------           --------------  ----- \n",
      " 0   User ID          400 non-null    int64 \n",
      " 1   Gender           400 non-null    object\n",
      " 2   Age              400 non-null    int64 \n",
      " 3   EstimatedSalary  400 non-null    int64 \n",
      " 4   Purchased        400 non-null    int64 \n",
      "dtypes: int64(4), object(1)\n",
      "memory usage: 15.8+ KB\n"
     ]
    }
   ],
   "source": [
    "df = pd.read_csv(\"Social_Network_Ads.csv\")\n",
    "\n",
    "print(f'Cantidad de: Observaciones y Variables: {df.shape}')\n",
    "df.info()"
   ]
  },
  {
   "cell_type": "code",
   "execution_count": 4,
   "id": "8c63480e",
   "metadata": {},
   "outputs": [
    {
     "data": {
      "text/html": [
       "<div>\n",
       "<style scoped>\n",
       "    .dataframe tbody tr th:only-of-type {\n",
       "        vertical-align: middle;\n",
       "    }\n",
       "\n",
       "    .dataframe tbody tr th {\n",
       "        vertical-align: top;\n",
       "    }\n",
       "\n",
       "    .dataframe thead th {\n",
       "        text-align: right;\n",
       "    }\n",
       "</style>\n",
       "<table border=\"1\" class=\"dataframe\">\n",
       "  <thead>\n",
       "    <tr style=\"text-align: right;\">\n",
       "      <th></th>\n",
       "      <th>User ID</th>\n",
       "      <th>Gender</th>\n",
       "      <th>Age</th>\n",
       "      <th>EstimatedSalary</th>\n",
       "      <th>Purchased</th>\n",
       "    </tr>\n",
       "  </thead>\n",
       "  <tbody>\n",
       "    <tr>\n",
       "      <th>0</th>\n",
       "      <td>15624510</td>\n",
       "      <td>Male</td>\n",
       "      <td>19</td>\n",
       "      <td>19000</td>\n",
       "      <td>0</td>\n",
       "    </tr>\n",
       "    <tr>\n",
       "      <th>1</th>\n",
       "      <td>15810944</td>\n",
       "      <td>Male</td>\n",
       "      <td>35</td>\n",
       "      <td>20000</td>\n",
       "      <td>0</td>\n",
       "    </tr>\n",
       "    <tr>\n",
       "      <th>2</th>\n",
       "      <td>15668575</td>\n",
       "      <td>Female</td>\n",
       "      <td>26</td>\n",
       "      <td>43000</td>\n",
       "      <td>0</td>\n",
       "    </tr>\n",
       "    <tr>\n",
       "      <th>3</th>\n",
       "      <td>15603246</td>\n",
       "      <td>Female</td>\n",
       "      <td>27</td>\n",
       "      <td>57000</td>\n",
       "      <td>0</td>\n",
       "    </tr>\n",
       "    <tr>\n",
       "      <th>4</th>\n",
       "      <td>15804002</td>\n",
       "      <td>Male</td>\n",
       "      <td>19</td>\n",
       "      <td>76000</td>\n",
       "      <td>0</td>\n",
       "    </tr>\n",
       "    <tr>\n",
       "      <th>5</th>\n",
       "      <td>15728773</td>\n",
       "      <td>Male</td>\n",
       "      <td>27</td>\n",
       "      <td>58000</td>\n",
       "      <td>0</td>\n",
       "    </tr>\n",
       "    <tr>\n",
       "      <th>6</th>\n",
       "      <td>15598044</td>\n",
       "      <td>Female</td>\n",
       "      <td>27</td>\n",
       "      <td>84000</td>\n",
       "      <td>0</td>\n",
       "    </tr>\n",
       "    <tr>\n",
       "      <th>7</th>\n",
       "      <td>15694829</td>\n",
       "      <td>Female</td>\n",
       "      <td>32</td>\n",
       "      <td>150000</td>\n",
       "      <td>1</td>\n",
       "    </tr>\n",
       "    <tr>\n",
       "      <th>8</th>\n",
       "      <td>15600575</td>\n",
       "      <td>Male</td>\n",
       "      <td>25</td>\n",
       "      <td>33000</td>\n",
       "      <td>0</td>\n",
       "    </tr>\n",
       "    <tr>\n",
       "      <th>9</th>\n",
       "      <td>15727311</td>\n",
       "      <td>Female</td>\n",
       "      <td>35</td>\n",
       "      <td>65000</td>\n",
       "      <td>0</td>\n",
       "    </tr>\n",
       "  </tbody>\n",
       "</table>\n",
       "</div>"
      ],
      "text/plain": [
       "    User ID  Gender  Age  EstimatedSalary  Purchased\n",
       "0  15624510    Male   19            19000          0\n",
       "1  15810944    Male   35            20000          0\n",
       "2  15668575  Female   26            43000          0\n",
       "3  15603246  Female   27            57000          0\n",
       "4  15804002    Male   19            76000          0\n",
       "5  15728773    Male   27            58000          0\n",
       "6  15598044  Female   27            84000          0\n",
       "7  15694829  Female   32           150000          1\n",
       "8  15600575    Male   25            33000          0\n",
       "9  15727311  Female   35            65000          0"
      ]
     },
     "execution_count": 4,
     "metadata": {},
     "output_type": "execute_result"
    }
   ],
   "source": [
    "# Ver las primeras 10 filas\n",
    "df.head(10)"
   ]
  },
  {
   "cell_type": "code",
   "execution_count": 5,
   "id": "f4939caa",
   "metadata": {},
   "outputs": [
    {
     "data": {
      "text/plain": [
       "User ID            0\n",
       "Gender             0\n",
       "Age                0\n",
       "EstimatedSalary    0\n",
       "Purchased          0\n",
       "dtype: int64"
      ]
     },
     "execution_count": 5,
     "metadata": {},
     "output_type": "execute_result"
    }
   ],
   "source": [
    "# Ver los valores NA\n",
    "df.isna().sum()"
   ]
  },
  {
   "cell_type": "code",
   "execution_count": 8,
   "id": "1ddcbd79",
   "metadata": {},
   "outputs": [
    {
     "name": "stdout",
     "output_type": "stream",
     "text": [
      "Media: \n",
      "37.655\n",
      "Mediana: \n",
      "37.0\n",
      "Moda: \n",
      "0    35\n",
      "Name: Age, dtype: int64\n"
     ]
    }
   ],
   "source": [
    "# Media\n",
    "print(f'Media: \\n{df['Age'].mean()}')\n",
    "print(f'Mediana: \\n{df['Age'].median()}')\n",
    "print(f'Moda: \\n{df['Age'].mode()}')"
   ]
  },
  {
   "cell_type": "code",
   "execution_count": null,
   "id": "f0e7dd6d",
   "metadata": {},
   "outputs": [
    {
     "data": {
      "text/plain": [
       "0.0    18.0\n",
       "Name: Age, dtype: float64"
      ]
     },
     "execution_count": 9,
     "metadata": {},
     "output_type": "execute_result"
    }
   ],
   "source": [
    "df['Age'].quantile([0]) # Q0"
   ]
  },
  {
   "cell_type": "markdown",
   "id": "e0f927bc",
   "metadata": {},
   "source": [
    "El 25% de las personas tienen hasta 18 años"
   ]
  },
  {
   "cell_type": "code",
   "execution_count": 12,
   "id": "2b19233c",
   "metadata": {},
   "outputs": [
    {
     "name": "stdout",
     "output_type": "stream",
     "text": [
      "0.25    29.75\n",
      "Name: Age, dtype: float64\n",
      "0.5    37.0\n",
      "Name: Age, dtype: float64\n",
      "0.75    46.0\n",
      "Name: Age, dtype: float64\n",
      "1.0    60.0\n",
      "Name: Age, dtype: float64\n"
     ]
    }
   ],
   "source": [
    "# Cuartiles\n",
    "print(df['Age'].quantile([0.25])) # Q1\n",
    "print(df['Age'].quantile([0.5])) # Q2\n",
    "print(df['Age'].quantile([0.75])) # Q3\n",
    "print(df['Age'].quantile([1])) #Q4"
   ]
  },
  {
   "cell_type": "code",
   "execution_count": 11,
   "id": "7778a8db",
   "metadata": {},
   "outputs": [
    {
     "name": "stdout",
     "output_type": "stream",
     "text": [
      "0.0    18.0\n",
      "Name: Age, dtype: float64\n",
      "0.1    24.0\n",
      "Name: Age, dtype: float64\n",
      "0.2    28.0\n",
      "Name: Age, dtype: float64\n",
      "0.3    31.0\n",
      "Name: Age, dtype: float64\n",
      "0.4    35.0\n",
      "Name: Age, dtype: float64\n",
      "0.5    37.0\n",
      "Name: Age, dtype: float64\n",
      "0.6    40.0\n",
      "Name: Age, dtype: float64\n",
      "0.7    42.0\n",
      "Name: Age, dtype: float64\n",
      "0.8    47.0\n",
      "Name: Age, dtype: float64\n",
      "0.9    52.1\n",
      "Name: Age, dtype: float64\n",
      "1.0    60.0\n",
      "Name: Age, dtype: float64\n"
     ]
    }
   ],
   "source": [
    "# Deciles\n",
    "print(df['Age'].quantile([0])) # D0\n",
    "print(df['Age'].quantile([0.1])) # D1\n",
    "print(df['Age'].quantile([0.2])) # D2\n",
    "print(df['Age'].quantile([0.3])) #D3\n",
    "print(df['Age'].quantile([0.4])) # D4\n",
    "print(df['Age'].quantile([0.5])) # D5\n",
    "print(df['Age'].quantile([0.6])) #D6\n",
    "print(df['Age'].quantile([0.7])) # D7\n",
    "print(df['Age'].quantile([0.8])) # D8\n",
    "print(df['Age'].quantile([0.9])) # D9\n",
    "print(df['Age'].quantile([1])) #D10"
   ]
  },
  {
   "cell_type": "code",
   "execution_count": 14,
   "id": "dcb9e53e",
   "metadata": {},
   "outputs": [
    {
     "name": "stdout",
     "output_type": "stream",
     "text": [
      "18\n",
      "60\n"
     ]
    }
   ],
   "source": [
    "# Rango\n",
    "print(df[\"Age\"].min())\n",
    "print(df[\"Age\"].max())"
   ]
  },
  {
   "cell_type": "code",
   "execution_count": 13,
   "id": "32920272",
   "metadata": {},
   "outputs": [
    {
     "name": "stdout",
     "output_type": "stream",
     "text": [
      "46.0\n",
      "29.75\n",
      "16.25\n"
     ]
    }
   ],
   "source": [
    "# Rango Intercuartil\n",
    "print(df[\"Age\"].quantile(0.75))\n",
    "print(df[\"Age\"].quantile(0.25))\n",
    "print(df[\"Age\"].quantile(0.75) - df[\"Age\"].quantile(0.25))"
   ]
  },
  {
   "cell_type": "code",
   "execution_count": 15,
   "id": "6c2257d6",
   "metadata": {},
   "outputs": [
    {
     "name": "stdout",
     "output_type": "stream",
     "text": [
      "Varianza: 109.89070175438596\n",
      "Desviación Estándar: 10.482876597307914\n"
     ]
    }
   ],
   "source": [
    "# Varianza\n",
    "print(f'Varianza: {df['Age'].var()}')\n",
    "print(f'Desviación Estándar: {df['Age'].std()}')"
   ]
  },
  {
   "cell_type": "code",
   "execution_count": 17,
   "id": "e22bcdba",
   "metadata": {},
   "outputs": [
    {
     "name": "stdout",
     "output_type": "stream",
     "text": [
      "Coeficiente de variación: 0.27839268615875484\n"
     ]
    }
   ],
   "source": [
    "# Coeficiente de variación\n",
    "print(f'Coeficiente de variación: {df['Age'].std() / df['Age'].mean()}')"
   ]
  },
  {
   "cell_type": "code",
   "execution_count": 18,
   "id": "8d85ef30",
   "metadata": {},
   "outputs": [
    {
     "name": "stdout",
     "output_type": "stream",
     "text": [
      "Coeficiente de asimetría: 0.23046904236325927\n"
     ]
    }
   ],
   "source": [
    "import scipy.stats as ss\n",
    "\n",
    "print(f'Coeficiente de asimetría: {ss.skew(df['Age'])}')"
   ]
  },
  {
   "cell_type": "markdown",
   "id": "0e860dc1",
   "metadata": {},
   "source": [
    "Análisis Bivariado (Sacar conclusiones entre variables)"
   ]
  },
  {
   "cell_type": "code",
   "execution_count": null,
   "id": "1bf0f3e4",
   "metadata": {},
   "outputs": [],
   "source": [
    "# Coeficiente de correlación"
   ]
  }
 ],
 "metadata": {
  "kernelspec": {
   "display_name": "Python 3",
   "language": "python",
   "name": "python3"
  },
  "language_info": {
   "codemirror_mode": {
    "name": "ipython",
    "version": 3
   },
   "file_extension": ".py",
   "mimetype": "text/x-python",
   "name": "python",
   "nbconvert_exporter": "python",
   "pygments_lexer": "ipython3",
   "version": "3.12.5"
  }
 },
 "nbformat": 4,
 "nbformat_minor": 5
}
